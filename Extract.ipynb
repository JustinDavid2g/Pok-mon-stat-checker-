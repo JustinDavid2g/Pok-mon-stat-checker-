{
  "nbformat": 4,
  "nbformat_minor": 0,
  "metadata": {
    "colab": {
      "provenance": []
    },
    "kernelspec": {
      "name": "python3",
      "display_name": "Python 3"
    },
    "language_info": {
      "name": "python"
    }
  },
  "cells": [
    {
      "cell_type": "code",
      "execution_count": null,
      "metadata": {
        "id": "YVYMKZlm_prP"
      },
      "outputs": [],
      "source": [
        "# Function to fetch specific data from the PokeAPI\n",
        "def fetch_pokemon_data(pokemon_id):\n",
        "    url = f'https://pokeapi.co/api/v2/pokemon/{pokemon_id}/'\n",
        "    response = requests.get(url)\n",
        "\n",
        "    if response.status_code == 200:\n",
        "        data = response.json()\n",
        "\n",
        "        # Calculate the total base stat\n",
        "        total_base_stat = sum(stat['base_stat'] for stat in data['stats'])\n",
        "\n",
        "        # Extracting relevant information\n",
        "        pokemon_info = {\n",
        "            'Entity': data['id'],\n",
        "            'name': data['name'],\n",
        "            'type': [t['type']['name'] for t in data['types']],\n",
        "            'abilities': [a['ability']['name'] for a in data['abilities']],\n",
        "            'HP_Stat': next(stat['base_stat'] for stat in data['stats'] if stat['stat']['name'] == 'hp'),\n",
        "            'Attack_Stat': next(stat['base_stat'] for stat in data['stats'] if stat['stat']['name'] == 'attack'),\n",
        "            'Defense_Stat': next(stat['base_stat'] for stat in data['stats'] if stat['stat']['name'] == 'defense'),\n",
        "            'Special_Attack_Stat': next(stat['base_stat'] for stat in data['stats'] if stat['stat']['name'] == 'special-attack'),\n",
        "            'Special_Defense_Stat': next(stat['base_stat'] for stat in data['stats'] if stat['stat']['name'] == 'special-defense'),\n",
        "            'Speed_Stat': next(stat['base_stat'] for stat in data['stats'] if stat['stat']['name'] == 'speed'),\n",
        "            'total_base_stat': total_base_stat\n",
        "        }\n",
        "\n",
        "        return pokemon_info\n",
        "    else:\n",
        "        print(f\"Error fetching data for Pokemon ID {pokemon_id}\")\n",
        "        return None\n",
        "\n",
        "\n",
        "# Fetch data for the first 150 Pokémon\n",
        "pokemon_data_list = []\n",
        "for pokemon_id in range(1, 151):\n",
        "    pokemon_data = fetch_pokemon_data(pokemon_id)\n",
        "    if pokemon_data:\n",
        "        pokemon_data_list.append(pokemon_data)\n",
        "\n",
        "# Convert the data to a DataFrame\n",
        "pokemon_data_df = pd.DataFrame(pokemon_data_list)\n",
        "\n",
        "# Save the DataFrame to a CSV file\n",
        "csv_filename = 'pokemon_data.csv'\n",
        "pokemon_data_df.to_csv(csv_filename, index=False)"
      ]
    }
  ]
}