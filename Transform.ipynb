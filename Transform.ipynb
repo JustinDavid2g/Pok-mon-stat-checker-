{
  "nbformat": 4,
  "nbformat_minor": 0,
  "metadata": {
    "colab": {
      "provenance": []
    },
    "kernelspec": {
      "name": "python3",
      "display_name": "Python 3"
    },
    "language_info": {
      "name": "python"
    }
  },
  "cells": [
    {
      "cell_type": "code",
      "execution_count": null,
      "metadata": {
        "id": "lTMpO277Ansz"
      },
      "outputs": [],
      "source": [
        "# Set up BigQuery client\n",
        "bigquery_client = bigquery.Client(credentials=credentials)\n",
        "\n",
        "# Define BigQuery dataset name\n",
        "dataset_id = 'pokemon_dataset'\n",
        "\n",
        "# Create a BigQuery dataset if it doesn't exist\n",
        "dataset_ref = bigquery_client.dataset(dataset_id)\n",
        "dataset = bigquery.Dataset(dataset_ref)\n",
        "try:\n",
        "    bigquery_client.get_dataset(dataset)\n",
        "except Exception as e:\n",
        "    bigquery_client.create_dataset(dataset)\n",
        "\n",
        "# Define BigQuery table schema for each dimension\n",
        "entity_schema = [\n",
        "    bigquery.SchemaField('Entity_ID', 'INTEGER', mode='REQUIRED'),\n",
        "    bigquery.SchemaField('Name', 'STRING'),\n",
        "]\n",
        "\n",
        "type_schema = [\n",
        "    bigquery.SchemaField('Type_ID', 'INTEGER', mode='REQUIRED'),\n",
        "    bigquery.SchemaField('Type_Name', 'STRING'),\n",
        "]\n",
        "\n",
        "ability_schema = [\n",
        "    bigquery.SchemaField('Ability_ID', 'INTEGER', mode='REQUIRED'),\n",
        "    bigquery.SchemaField('Ability_Name', 'STRING'),\n",
        "]\n",
        "\n",
        "# Load data into BigQuery tables\n",
        "for schema, table_name in zip([entity_schema, type_schema, ability_schema], ['EntityTable', 'TypeTable', 'AbilityTable']):\n",
        "    table_ref = bigquery_client.dataset(dataset_id).table(table_name)\n",
        "    job_config = bigquery.LoadJobConfig(schema=schema, skip_leading_rows=1, source_format=bigquery.SourceFormat.CSV)\n",
        "    with open(csv_filename, 'rb') as source_file:\n",
        "        job = bigquery_client.load_table_from_file(source_file, table_ref, job_config=job_config)\n",
        "\n",
        "    # Wait for the job to complete\n",
        "    job.result()\n",
        "\n",
        "# Define BigQuery table schema for the Fact dimension\n",
        "fact_schema = [\n",
        "    bigquery.SchemaField('Entity_ID', 'INTEGER'),\n",
        "    bigquery.SchemaField('Type_ID', 'INTEGER'),\n",
        "    bigquery.SchemaField('HP_Stat', 'INTEGER'),\n",
        "    bigquery.SchemaField('Attack_Stat', 'INTEGER'),\n",
        "    bigquery.SchemaField('Defense_Stat', 'INTEGER'),\n",
        "    bigquery.SchemaField('Special_Attack_Stat', 'INTEGER'),\n",
        "    bigquery.SchemaField('Special_Defense_Stat', 'INTEGER'),\n",
        "    bigquery.SchemaField('Speed_Stat', 'INTEGER'),\n",
        "    bigquery.SchemaField('Abilities', 'STRING'),\n",
        "    bigquery.SchemaField('Total_Base_Stat', 'INTEGER'),\n",
        "]\n",
        "\n",
        "# Load data into the Fact table\n",
        "fact_table_ref = bigquery_client.dataset(dataset_id).table('FactTable')\n",
        "fact_job_config = bigquery.LoadJobConfig(schema=fact_schema, skip_leading_rows=1, source_format=bigquery.SourceFormat.CSV)\n",
        "with open(csv_filename, 'rb') as source_file:\n",
        "    try:\n",
        "        fact_job = bigquery_client.load_table_from_file(source_file, fact_table_ref, job_config=fact_job_config)\n",
        "        # Wait for the job to complete\n",
        "        fact_job.result()\n",
        "    except Exception as e:\n",
        "        print(f\"Error loading data into FactTable: {str(e)}\")\n",
        "        for error in fact_job.errors:\n",
        "            print(error)\n",
        "\n",
        "# Print the URLs of the created tables\n",
        "for table_name in ['EntityTable', 'TypeTable', 'AbilityTable', 'FactTable']:\n",
        "    print(f'Table created in BigQuery: {bigquery_client.project}.{dataset_id}.{table_name}')\n"
      ]
    }
  ]
}