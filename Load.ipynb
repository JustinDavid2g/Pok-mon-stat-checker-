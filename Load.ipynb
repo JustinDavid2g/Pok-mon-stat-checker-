{
  "nbformat": 4,
  "nbformat_minor": 0,
  "metadata": {
    "colab": {
      "provenance": []
    },
    "kernelspec": {
      "name": "python3",
      "display_name": "Python 3"
    },
    "language_info": {
      "name": "python"
    }
  },
  "cells": [
    {
      "cell_type": "code",
      "execution_count": null,
      "metadata": {
        "id": "IMFHY6szANy6"
      },
      "outputs": [],
      "source": [
        "# Google Cloud Storage configuration\n",
        "bucket_name = 'cis-4400-jd'\n",
        "blob_name = 'pokemon_data.csv'\n",
        "\n",
        "# Get the absolute path to the current working directory\n",
        "script_dir = os.getcwd()\n",
        "\n",
        "credentials_path = os.path.join(script_dir, 'compelling-mesh-407322-2783a19b7c87.json')\n",
        "\n",
        "# Set up Google Cloud Storage client\n",
        "credentials = service_account.Credentials.from_service_account_file(credentials_path)\n",
        "storage_client = storage.Client(credentials=credentials)\n",
        "\n",
        "# Upload the CSV file to Google Cloud Storage\n",
        "bucket = storage_client.bucket(bucket_name)\n",
        "blob = bucket.blob(blob_name)\n",
        "blob.upload_from_filename(csv_filename)\n",
        "\n",
        "# Print the URL of the uploaded file\n",
        "print(f'File uploaded to: gs://{bucket_name}/{blob_name}')\n"
      ]
    }
  ]
}